{
  "nbformat": 4,
  "nbformat_minor": 0,
  "metadata": {
    "colab": {
      "provenance": []
    },
    "kernelspec": {
      "name": "python3",
      "display_name": "Python 3"
    },
    "language_info": {
      "name": "python"
    }
  },
  "cells": [
    {
      "cell_type": "code",
      "execution_count": null,
      "metadata": {
        "id": "csOqgOn-xggS"
      },
      "outputs": [],
      "source": [
        "import yfinance as yf #open commmand prompt and type pip install yfinance to install to yfiance to computer first before execute the code\n",
        "import pandas as pd #for creating dataframe using pandas\n",
        "from datetime import datetime, timedelta\n",
        "import os"
      ]
    },
    {
      "cell_type": "code",
      "source": [
        "# define which secruity to pull by ticker symbol\n",
        "tickers = ['SPY ','BND','GLD','QQQ','VTI']"
      ],
      "metadata": {
        "id": "rjVvT9OLyNxi"
      },
      "execution_count": null,
      "outputs": []
    },
    {
      "cell_type": "code",
      "source": [
        "# set end date as today\n",
        "end_date = datetime.today()\n",
        "print(end_date)"
      ],
      "metadata": {
        "colab": {
          "base_uri": "https://localhost:8080/"
        },
        "id": "fDu1WPMfyiRP",
        "outputId": "3b17c72b-1866-4397-e6d5-a44b3db57212"
      },
      "execution_count": null,
      "outputs": [
        {
          "output_type": "stream",
          "name": "stdout",
          "text": [
            "2025-03-08 22:03:41.314642\n"
          ]
        }
      ]
    },
    {
      "cell_type": "code",
      "source": [
        "#set start date to 10 years prior\n",
        "start_date = end_date - timedelta(days = 10*365)\n",
        "print(start_date)"
      ],
      "metadata": {
        "colab": {
          "base_uri": "https://localhost:8080/"
        },
        "id": "zZjLY71Vytfd",
        "outputId": "815bb30f-c5c7-4335-b64e-bce5d2366cd8"
      },
      "execution_count": null,
      "outputs": [
        {
          "output_type": "stream",
          "name": "stdout",
          "text": [
            "2015-03-11 22:03:41.314642\n"
          ]
        }
      ]
    },
    {
      "cell_type": "code",
      "source": [
        "# create empty data frame to store closed prices\n",
        "close_df = pd.DataFrame()"
      ],
      "metadata": {
        "id": "_nYA65GKy-1s"
      },
      "execution_count": null,
      "outputs": []
    },
    {
      "cell_type": "code",
      "source": [
        "# download closed prices for each ticker\n",
        "for ticker in tickers:\n",
        "  data = yf.download(ticker, start=start_date, end = end_date)\n",
        "  close_df[ticker] = data['Close']"
      ],
      "metadata": {
        "colab": {
          "base_uri": "https://localhost:8080/"
        },
        "id": "dsFq1VklzFwa",
        "outputId": "94f14ed0-b312-43ae-f758-86ad5336a0fc"
      },
      "execution_count": null,
      "outputs": [
        {
          "output_type": "stream",
          "name": "stdout",
          "text": [
            "YF.download() has changed argument auto_adjust default to True\n"
          ]
        },
        {
          "output_type": "stream",
          "name": "stderr",
          "text": [
            "[*********************100%***********************]  1 of 1 completed\n",
            "[*********************100%***********************]  1 of 1 completed\n",
            "[*********************100%***********************]  1 of 1 completed\n",
            "[*********************100%***********************]  1 of 1 completed\n",
            "[*********************100%***********************]  1 of 1 completed\n"
          ]
        }
      ]
    },
    {
      "cell_type": "code",
      "source": [
        "# display stock prices\n",
        "print(close_df)"
      ],
      "metadata": {
        "colab": {
          "base_uri": "https://localhost:8080/"
        },
        "id": "jCa-4Mlyzk0S",
        "outputId": "9d687ed3-c6e9-465c-8f7c-ad2cee23c6c9"
      },
      "execution_count": null,
      "outputs": [
        {
          "output_type": "stream",
          "name": "stdout",
          "text": [
            "                  SPY         BND         GLD         QQQ         VTI\n",
            "Date                                                                 \n",
            "2015-03-12  173.995972  62.665516  110.720001   97.911896   90.472694\n",
            "2015-03-13  172.928940  62.604877  110.879997   97.486183   89.967621\n",
            "2015-03-16  175.239334  62.726158  110.809998   98.744804   91.095665\n",
            "2015-03-17  174.718460  62.779179  110.209999   98.902130   90.918907\n",
            "2015-03-18  176.818863  63.165691  112.370003   99.873856   91.962776\n",
            "...                ...        ...         ...         ...         ...\n",
            "2025-03-03  583.770020  73.610001  266.739990  497.049988  287.709991\n",
            "2025-03-04  576.859985  73.400002  269.059998  495.549988  284.119995\n",
            "2025-03-05  583.059998  73.139999  269.619995  502.010010  287.350006\n",
            "2025-03-06  572.710022  73.080002  268.250000  488.200012  282.010010\n",
            "2025-03-07  575.919983  73.000000  268.390015  491.790009  283.339996\n",
            "\n",
            "[2513 rows x 5 columns]\n"
          ]
        }
      ]
    },
    {
      "cell_type": "code",
      "source": [
        "#set output folder path and export data\n",
        "output_folder = r\"C:\\Users\\yuphe\\OneDrive\\Documents\\550 Data Analytics\"\n",
        "output_file = os.path.join(output_folder, 'stock_prices.xlsx')\n",
        "\n",
        "# Create the directory if it doesn't exist\n",
        "os.makedirs(output_folder, exist_ok=True)\n",
        "\n",
        "# Now save the dataframe to excep\n",
        "close_df.to_excel(output_file)"
      ],
      "metadata": {
        "id": "Zdc_mfcSzpVf"
      },
      "execution_count": null,
      "outputs": []
    },
    {
      "cell_type": "code",
      "source": [
        "# if file does not appear in folder path created above, use this code to download excel file directly\n",
        "from google.colab import files\n",
        "files.download(output_file)"
      ],
      "metadata": {
        "colab": {
          "base_uri": "https://localhost:8080/",
          "height": 17
        },
        "id": "TqZN5wpU2pp4",
        "outputId": "b7899009-78dc-4787-8f70-5b260effe575"
      },
      "execution_count": null,
      "outputs": [
        {
          "output_type": "display_data",
          "data": {
            "text/plain": [
              "<IPython.core.display.Javascript object>"
            ],
            "application/javascript": [
              "\n",
              "    async function download(id, filename, size) {\n",
              "      if (!google.colab.kernel.accessAllowed) {\n",
              "        return;\n",
              "      }\n",
              "      const div = document.createElement('div');\n",
              "      const label = document.createElement('label');\n",
              "      label.textContent = `Downloading \"${filename}\": `;\n",
              "      div.appendChild(label);\n",
              "      const progress = document.createElement('progress');\n",
              "      progress.max = size;\n",
              "      div.appendChild(progress);\n",
              "      document.body.appendChild(div);\n",
              "\n",
              "      const buffers = [];\n",
              "      let downloaded = 0;\n",
              "\n",
              "      const channel = await google.colab.kernel.comms.open(id);\n",
              "      // Send a message to notify the kernel that we're ready.\n",
              "      channel.send({})\n",
              "\n",
              "      for await (const message of channel.messages) {\n",
              "        // Send a message to notify the kernel that we're ready.\n",
              "        channel.send({})\n",
              "        if (message.buffers) {\n",
              "          for (const buffer of message.buffers) {\n",
              "            buffers.push(buffer);\n",
              "            downloaded += buffer.byteLength;\n",
              "            progress.value = downloaded;\n",
              "          }\n",
              "        }\n",
              "      }\n",
              "      const blob = new Blob(buffers, {type: 'application/binary'});\n",
              "      const a = document.createElement('a');\n",
              "      a.href = window.URL.createObjectURL(blob);\n",
              "      a.download = filename;\n",
              "      div.appendChild(a);\n",
              "      a.click();\n",
              "      div.remove();\n",
              "    }\n",
              "  "
            ]
          },
          "metadata": {}
        },
        {
          "output_type": "display_data",
          "data": {
            "text/plain": [
              "<IPython.core.display.Javascript object>"
            ],
            "application/javascript": [
              "download(\"download_508883e3-891e-46df-84c4-fe49ab95b94a\", \"stock_prices.xlsx\", 155956)"
            ]
          },
          "metadata": {}
        }
      ]
    }
  ]
}